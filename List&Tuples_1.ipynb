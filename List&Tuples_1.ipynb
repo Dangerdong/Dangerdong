{
  "nbformat": 4,
  "nbformat_minor": 0,
  "metadata": {
    "colab": {
      "provenance": []
    },
    "kernelspec": {
      "name": "python3",
      "display_name": "Python 3"
    },
    "language_info": {
      "name": "python"
    }
  },
  "cells": [
    {
      "cell_type": "code",
      "execution_count": null,
      "metadata": {
        "id": "e9HBjktxK9t4"
      },
      "outputs": [],
      "source": [
        "def even_odd_sums(numbers):\n",
        "  even_sum = sum(numbers[i] for i in range(0,len(numbers),2))\n",
        "  odd_sum = sum(numbers[i] for i in range(1,len(numbers),2))\n",
        "  return [even_sum,odd_sum]"
      ]
    },
    {
      "cell_type": "code",
      "source": [
        "even_odd_sums([10,20,30,40,50,60])"
      ],
      "metadata": {
        "id": "Hhjmn1OrLd6p",
        "colab": {
          "base_uri": "https://localhost:8080/"
        },
        "outputId": "11edc549-5986-4fc9-aa9f-f4ce3f1e79fc"
      },
      "execution_count": null,
      "outputs": [
        {
          "output_type": "execute_result",
          "data": {
            "text/plain": [
              "[90, 120]"
            ]
          },
          "metadata": {},
          "execution_count": 2
        }
      ]
    },
    {
      "cell_type": "markdown",
      "source": [],
      "metadata": {
        "id": "3GzAD02tO0sR"
      }
    },
    {
      "cell_type": "code",
      "source": [
        "def plus_minus(numbers):\n",
        "  result = numbers[0]\n",
        "  for i in range(1,len(numbers)):\n",
        "    if i%2 == 1:\n",
        "      result += numbers[i]\n",
        "    else:\n",
        "      result -=numbers[i]\n",
        "  return result"
      ],
      "metadata": {
        "id": "s3Dku0BnLd92"
      },
      "execution_count": null,
      "outputs": []
    },
    {
      "cell_type": "code",
      "source": [
        "plus_minus([10,20,30,40,50,60])"
      ],
      "metadata": {
        "id": "tA02Vta2LeBI",
        "colab": {
          "base_uri": "https://localhost:8080/"
        },
        "outputId": "86a54032-0228-432b-95f3-79d742d5659b"
      },
      "execution_count": null,
      "outputs": [
        {
          "output_type": "execute_result",
          "data": {
            "text/plain": [
              "50"
            ]
          },
          "metadata": {},
          "execution_count": 13
        }
      ]
    },
    {
      "cell_type": "code",
      "source": [],
      "metadata": {
        "id": "gGhP0jOuPbVc"
      },
      "execution_count": null,
      "outputs": []
    }
  ]
}