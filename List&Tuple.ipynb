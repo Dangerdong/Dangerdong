{
  "nbformat": 4,
  "nbformat_minor": 0,
  "metadata": {
    "colab": {
      "provenance": []
    },
    "kernelspec": {
      "name": "python3",
      "display_name": "Python 3"
    },
    "language_info": {
      "name": "python"
    }
  },
  "cells": [
    {
      "cell_type": "code",
      "execution_count": null,
      "metadata": {
        "id": "OYYtwBo3FHYR"
      },
      "outputs": [],
      "source": [
        "def firstlast(sequence):\n",
        "  return sequence[0] + sequence[-1]"
      ]
    },
    {
      "cell_type": "code",
      "source": [
        "firstlast(('a','b','c'))"
      ],
      "metadata": {
        "colab": {
          "base_uri": "https://localhost:8080/",
          "height": 36
        },
        "id": "mlgJAWoGFVQi",
        "outputId": "e79a8e35-8fa5-4ed2-e9e5-7d375c53cdb8"
      },
      "execution_count": null,
      "outputs": [
        {
          "output_type": "execute_result",
          "data": {
            "text/plain": [
              "'ac'"
            ],
            "application/vnd.google.colaboratory.intrinsic+json": {
              "type": "string"
            }
          },
          "metadata": {},
          "execution_count": 2
        }
      ]
    },
    {
      "cell_type": "code",
      "source": [
        "firstlast('abc')"
      ],
      "metadata": {
        "colab": {
          "base_uri": "https://localhost:8080/",
          "height": 36
        },
        "id": "5cwjFAHaFj87",
        "outputId": "81eb9079-6833-4fcb-f7f6-eed7a3938f83"
      },
      "execution_count": null,
      "outputs": [
        {
          "output_type": "execute_result",
          "data": {
            "text/plain": [
              "'ac'"
            ],
            "application/vnd.google.colaboratory.intrinsic+json": {
              "type": "string"
            }
          },
          "metadata": {},
          "execution_count": 3
        }
      ]
    },
    {
      "cell_type": "code",
      "source": [
        "firstlast([1,2,3,4])"
      ],
      "metadata": {
        "colab": {
          "base_uri": "https://localhost:8080/"
        },
        "id": "6OWipT38Fz20",
        "outputId": "951065cf-ca62-4f62-d7d3-8de9e93e304a"
      },
      "execution_count": null,
      "outputs": [
        {
          "output_type": "execute_result",
          "data": {
            "text/plain": [
              "5"
            ]
          },
          "metadata": {},
          "execution_count": 4
        }
      ]
    },
    {
      "cell_type": "markdown",
      "source": [
        "Beginner"
      ],
      "metadata": {
        "id": "KHigKNSbGvqm"
      }
    },
    {
      "cell_type": "code",
      "source": [
        "def firstlast(seq):\n",
        "  if isinstance(seq,(str,list,tuple)):\n",
        "    if isinstance(seq,str):\n",
        "      return seq[0]+seq[-1]\n",
        "    elif isinstance(seq,list):\n",
        "      return [seq[0],seq[-1]]\n",
        "    else:\n",
        "      return (seq[0],seq[-1])\n",
        "  else:\n",
        "    raise ValueError(\"Input shoud be a string, tuple or list\")\n"
      ],
      "metadata": {
        "id": "gKTF59fpF3sW"
      },
      "execution_count": null,
      "outputs": []
    },
    {
      "cell_type": "markdown",
      "source": [
        "Advanced level"
      ],
      "metadata": {
        "id": "aFd95FAUHas9"
      }
    },
    {
      "cell_type": "code",
      "source": [
        "def firstlast(sequence):\n",
        "  return sequence[:1] + sequence[-1:]"
      ],
      "metadata": {
        "id": "CgKlP4Q3HZi2"
      },
      "execution_count": null,
      "outputs": []
    },
    {
      "cell_type": "code",
      "source": [
        "firstlast([1,2,3,4])"
      ],
      "metadata": {
        "colab": {
          "base_uri": "https://localhost:8080/"
        },
        "id": "QhJNaxDyHja3",
        "outputId": "bf06bb3e-8f4f-46cd-d087-1f100c4bbf71"
      },
      "execution_count": null,
      "outputs": [
        {
          "output_type": "execute_result",
          "data": {
            "text/plain": [
              "[1, 4]"
            ]
          },
          "metadata": {},
          "execution_count": 6
        }
      ]
    },
    {
      "cell_type": "code",
      "source": [
        "firstlast((1,2,3,4))"
      ],
      "metadata": {
        "colab": {
          "base_uri": "https://localhost:8080/"
        },
        "id": "fXMkljpMHsor",
        "outputId": "85173a20-fbab-44da-9cb0-893ea9a0fe38"
      },
      "execution_count": null,
      "outputs": [
        {
          "output_type": "execute_result",
          "data": {
            "text/plain": [
              "(1, 4)"
            ]
          },
          "metadata": {},
          "execution_count": 7
        }
      ]
    },
    {
      "cell_type": "code",
      "source": [
        "firstlast('abc')"
      ],
      "metadata": {
        "colab": {
          "base_uri": "https://localhost:8080/",
          "height": 36
        },
        "id": "vQCKHBwIHvXu",
        "outputId": "5039773a-b9c5-48c7-f858-1d145948699f"
      },
      "execution_count": null,
      "outputs": [
        {
          "output_type": "execute_result",
          "data": {
            "text/plain": [
              "'ac'"
            ],
            "application/vnd.google.colaboratory.intrinsic+json": {
              "type": "string"
            }
          },
          "metadata": {},
          "execution_count": 8
        }
      ]
    },
    {
      "cell_type": "code",
      "source": [
        "def square(num):\n",
        "  return num*"
      ],
      "metadata": {
        "id": "ounCVk-EHxbS"
      },
      "execution_count": null,
      "outputs": []
    },
    {
      "cell_type": "code",
      "source": [
        "square(3)"
      ],
      "metadata": {
        "colab": {
          "base_uri": "https://localhost:8080/"
        },
        "id": "lQoWZViKJln8",
        "outputId": "53441fa1-be1e-4973-b26b-2f9b476e0625"
      },
      "execution_count": null,
      "outputs": [
        {
          "output_type": "execute_result",
          "data": {
            "text/plain": [
              "9"
            ]
          },
          "metadata": {},
          "execution_count": 10
        }
      ]
    },
    {
      "cell_type": "code",
      "source": [
        "square(3.1)"
      ],
      "metadata": {
        "colab": {
          "base_uri": "https://localhost:8080/"
        },
        "id": "dRX54gu4Joys",
        "outputId": "5b1b5f03-eb76-49dd-9fd5-d31f98d1164d"
      },
      "execution_count": null,
      "outputs": [
        {
          "output_type": "execute_result",
          "data": {
            "text/plain": [
              "9.610000000000001"
            ]
          },
          "metadata": {},
          "execution_count": 11
        }
      ]
    },
    {
      "cell_type": "code",
      "source": [
        "def largest_element(seq):\n",
        "  return max(seq)"
      ],
      "metadata": {
        "id": "NrD28laNJqa9"
      },
      "execution_count": null,
      "outputs": []
    },
    {
      "cell_type": "code",
      "source": [
        "largest_element('abcdefg')"
      ],
      "metadata": {
        "colab": {
          "base_uri": "https://localhost:8080/",
          "height": 36
        },
        "id": "QloFT_eHKyjO",
        "outputId": "bae30eb7-9aef-4062-a7ce-e4605727b10e"
      },
      "execution_count": null,
      "outputs": [
        {
          "output_type": "execute_result",
          "data": {
            "text/plain": [
              "'g'"
            ],
            "application/vnd.google.colaboratory.intrinsic+json": {
              "type": "string"
            }
          },
          "metadata": {},
          "execution_count": 13
        }
      ]
    },
    {
      "cell_type": "code",
      "source": [
        "def largest_element(seq):\n",
        "  largest = seq[0]\n",
        "\n",
        "  for item in seq:\n",
        "    if item > largest:\n",
        "      largest = item\n",
        "  return largest"
      ],
      "metadata": {
        "id": "QOL0cip9K2yL"
      },
      "execution_count": null,
      "outputs": []
    },
    {
      "cell_type": "code",
      "source": [
        "largest_element('gabcde')"
      ],
      "metadata": {
        "colab": {
          "base_uri": "https://localhost:8080/",
          "height": 36
        },
        "id": "yvTBSLLHLX2S",
        "outputId": "d6af2041-03e0-480d-b95c-796cadc2dc09"
      },
      "execution_count": null,
      "outputs": [
        {
          "output_type": "execute_result",
          "data": {
            "text/plain": [
              "'g'"
            ],
            "application/vnd.google.colaboratory.intrinsic+json": {
              "type": "string"
            }
          },
          "metadata": {},
          "execution_count": 16
        }
      ]
    },
    {
      "cell_type": "code",
      "source": [],
      "metadata": {
        "id": "aTBUNXXKLcTY"
      },
      "execution_count": null,
      "outputs": []
    }
  ]
}