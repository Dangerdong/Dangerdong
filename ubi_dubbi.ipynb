{
 "cells": [
  {
   "cell_type": "code",
   "execution_count": null,
   "id": "a26a8267",
   "metadata": {},
   "outputs": [],
   "source": [
    "def ubbi_dubbi(word):\n",
    "output = []\n",
    "for letter in word:\n",
    "if letter in 'aeiou':\n",
    "output.append(f'ub{letter}')\n",
    "else:\n",
    "output.append(letter)\n",
    "return output"
   ]
  },
  {
   "cell_type": "code",
   "execution_count": null,
   "id": "54fc2806",
   "metadata": {},
   "outputs": [],
   "source": [
    "ubbi_dubbi('ball')"
   ]
  },
  {
   "cell_type": "code",
   "execution_count": null,
   "id": "4efeec21",
   "metadata": {},
   "outputs": [],
   "source": [
    "def ubbi_dubbi(word):\n",
    "output = []\n",
    "for letter in word:\n",
    "if letter in 'aeiou':\n",
    "output.append(f'ub{letter}')\n",
    "else:\n",
    "output.append(letter)\n",
    "return ''.join(output)"
   ]
  },
  {
   "cell_type": "code",
   "execution_count": null,
   "id": "b4052fc2",
   "metadata": {},
   "outputs": [],
   "source": [
    "ubbi_dubbi('nigga')"
   ]
  },
  {
   "cell_type": "code",
   "execution_count": null,
   "id": "90ebef91",
   "metadata": {},
   "outputs": [],
   "source": []
  }
 ],
 "metadata": {
  "kernelspec": {
   "display_name": "Python 3",
   "language": "python",
   "name": "python3"
  }
 },
 "nbformat": 4,
 "nbformat_minor": 5
}
