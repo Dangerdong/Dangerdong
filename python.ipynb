{
 "cells": [
  {
   "cell_type": "code",
   "execution_count": 1,
   "id": "f2bb1836",
   "metadata": {},
   "outputs": [],
   "source": [
    "letters = ['a','b','c','d','e','f','g','h','i','j']"
   ]
  },
  {
   "cell_type": "code",
   "execution_count": 2,
   "id": "67b4bf0e",
   "metadata": {},
   "outputs": [
    {
     "data": {
      "text/plain": [
       "['a', 'c', 'e', 'g', 'i']"
      ]
     },
     "execution_count": 2,
     "metadata": {},
     "output_type": "execute_result"
    }
   ],
   "source": [
    "letters[::2]"
   ]
  },
  {
   "cell_type": "markdown",
   "id": "3bfb038c",
   "metadata": {},
   "source": [
    "# Create a script that generates a list of numbers from 1 to 20 Do not create a list manually"
   ]
  },
  {
   "cell_type": "code",
   "execution_count": 3,
   "id": "fd25e71f",
   "metadata": {},
   "outputs": [],
   "source": [
    "a = range(1,21)"
   ]
  },
  {
   "cell_type": "code",
   "execution_count": 4,
   "id": "9e37e61f",
   "metadata": {},
   "outputs": [
    {
     "data": {
      "text/plain": [
       "[1, 2, 3, 4, 5, 6, 7, 8, 9, 10, 11, 12, 13, 14, 15, 16, 17, 18, 19, 20]"
      ]
     },
     "execution_count": 4,
     "metadata": {},
     "output_type": "execute_result"
    }
   ],
   "source": [
    "list(a)"
   ]
  },
  {
   "cell_type": "markdown",
   "id": "ce2cd4f9",
   "metadata": {},
   "source": [
    "# Create a script that generates a list whose items are products of the original list items multiplied by 10"
   ]
  },
  {
   "cell_type": "code",
   "execution_count": 5,
   "id": "dc9aea5e",
   "metadata": {},
   "outputs": [
    {
     "name": "stdout",
     "output_type": "stream",
     "text": [
      "[10, 20, 30, 40, 50, 60, 70, 80, 90, 100, 110, 120, 130, 140, 150, 160, 170, 180, 190, 200]\n"
     ]
    }
   ],
   "source": [
    "a = range(1,21)\n",
    "print([10 * x for x in a])"
   ]
  },
  {
   "cell_type": "markdown",
   "id": "3ddae05e",
   "metadata": {},
   "source": [
    "# Create a script that converts all items of the range to strings"
   ]
  },
  {
   "cell_type": "code",
   "execution_count": 7,
   "id": "18bc949e",
   "metadata": {},
   "outputs": [],
   "source": [
    "my_range = range(1,21)\n",
    "str_range = map(str,my_range)"
   ]
  },
  {
   "cell_type": "code",
   "execution_count": 8,
   "id": "7a643708",
   "metadata": {},
   "outputs": [
    {
     "name": "stdout",
     "output_type": "stream",
     "text": [
      "1\n",
      "2\n",
      "3\n",
      "4\n",
      "5\n",
      "6\n",
      "7\n",
      "8\n",
      "9\n",
      "10\n",
      "11\n",
      "12\n",
      "13\n",
      "14\n",
      "15\n",
      "16\n",
      "17\n",
      "18\n",
      "19\n",
      "20\n"
     ]
    }
   ],
   "source": [
    "for i in str_range:\n",
    "    print(i)"
   ]
  },
  {
   "cell_type": "markdown",
   "id": "3ab1a146",
   "metadata": {},
   "source": [
    "# Write a script that removes duplicates from a list"
   ]
  },
  {
   "cell_type": "code",
   "execution_count": 9,
   "id": "a52823fc",
   "metadata": {},
   "outputs": [],
   "source": [
    "a = [\"1\",1,\"1\",2]"
   ]
  },
  {
   "cell_type": "code",
   "execution_count": 10,
   "id": "ec3435d7",
   "metadata": {},
   "outputs": [
    {
     "ename": "TypeError",
     "evalue": "'range' object is not callable",
     "output_type": "error",
     "traceback": [
      "\u001b[1;31m---------------------------------------------------------------------------\u001b[0m",
      "\u001b[1;31mTypeError\u001b[0m                                 Traceback (most recent call last)",
      "Cell \u001b[1;32mIn[10], line 1\u001b[0m\n\u001b[1;32m----> 1\u001b[0m a \u001b[38;5;241m=\u001b[39m \u001b[38;5;28;43mlist\u001b[39;49m\u001b[43m(\u001b[49m\u001b[38;5;28;43mset\u001b[39;49m\u001b[43m(\u001b[49m\u001b[43ma\u001b[49m\u001b[43m)\u001b[49m\u001b[43m)\u001b[49m\n",
      "\u001b[1;31mTypeError\u001b[0m: 'range' object is not callable"
     ]
    }
   ],
   "source": [
    "a = list(set(a))"
   ]
  },
  {
   "cell_type": "code",
   "execution_count": null,
   "id": "26c325c2",
   "metadata": {},
   "outputs": [],
   "source": [
    "pri"
   ]
  },
  {
   "cell_type": "markdown",
   "id": "dde24be7",
   "metadata": {},
   "source": [
    "# Create a dictionary of 2 keys a and b two values 1 and 2 for keys a and b respectively"
   ]
  },
  {
   "cell_type": "code",
   "execution_count": 11,
   "id": "f9c8263f",
   "metadata": {},
   "outputs": [],
   "source": [
    "d = {\"a\":1,\"b\":2}"
   ]
  },
  {
   "cell_type": "markdown",
   "id": "fca2238e",
   "metadata": {},
   "source": [
    "# Print out the value of key b"
   ]
  },
  {
   "cell_type": "code",
   "execution_count": 14,
   "id": "d2e9d961",
   "metadata": {},
   "outputs": [
    {
     "name": "stdout",
     "output_type": "stream",
     "text": [
      "2\n"
     ]
    }
   ],
   "source": [
    "print(d[\"b\"])"
   ]
  },
  {
   "cell_type": "markdown",
   "id": "48629333",
   "metadata": {},
   "source": [
    "# Calculate the sum of value of key a and value of key b and print it out"
   ]
  },
  {
   "cell_type": "code",
   "execution_count": 16,
   "id": "d30528d1",
   "metadata": {},
   "outputs": [
    {
     "name": "stdout",
     "output_type": "stream",
     "text": [
      "3\n"
     ]
    }
   ],
   "source": [
    "print(d[\"a\"]+d[\"b\"])"
   ]
  },
  {
   "cell_type": "markdown",
   "id": "40eafaa1",
   "metadata": {},
   "source": [
    "# Add a \"c\" key with a value of 3 to the dictionary and print out the updated dictionary"
   ]
  },
  {
   "cell_type": "code",
   "execution_count": 18,
   "id": "beb4b935",
   "metadata": {},
   "outputs": [],
   "source": [
    "d.update({\"c\":3})"
   ]
  },
  {
   "cell_type": "code",
   "execution_count": 19,
   "id": "cd321d9b",
   "metadata": {},
   "outputs": [
    {
     "data": {
      "text/plain": [
       "3"
      ]
     },
     "execution_count": 19,
     "metadata": {},
     "output_type": "execute_result"
    }
   ],
   "source": [
    "d['c']"
   ]
  },
  {
   "cell_type": "markdown",
   "id": "4f337c9c",
   "metadata": {},
   "source": [
    "# Find the sum of all values"
   ]
  },
  {
   "cell_type": "code",
   "execution_count": 5,
   "id": "5f23f6bb",
   "metadata": {},
   "outputs": [
    {
     "ename": "NameError",
     "evalue": "name 'd' is not defined",
     "output_type": "error",
     "traceback": [
      "\u001b[1;31m---------------------------------------------------------------------------\u001b[0m",
      "\u001b[1;31mNameError\u001b[0m                                 Traceback (most recent call last)",
      "Cell \u001b[1;32mIn[5], line 1\u001b[0m\n\u001b[1;32m----> 1\u001b[0m d \u001b[38;5;241m=\u001b[39m \u001b[43md\u001b[49m[\u001b[38;5;124m\"\u001b[39m\u001b[38;5;124ma\u001b[39m\u001b[38;5;124m\"\u001b[39m]\u001b[38;5;241m+\u001b[39md[\u001b[38;5;124m\"\u001b[39m\u001b[38;5;124mb\u001b[39m\u001b[38;5;124m\"\u001b[39m]\u001b[38;5;241m+\u001b[39md[\u001b[38;5;124m\"\u001b[39m\u001b[38;5;124mc\u001b[39m\u001b[38;5;124m\"\u001b[39m]\n",
      "\u001b[1;31mNameError\u001b[0m: name 'd' is not defined"
     ]
    }
   ],
   "source": [
    "d = c[\"a\"]+c[\"b\"]+c[\"c\"]"
   ]
  },
  {
   "cell_type": "code",
   "execution_count": 21,
   "id": "25f39855",
   "metadata": {},
   "outputs": [
    {
     "data": {
      "text/plain": [
       "6"
      ]
     },
     "execution_count": 21,
     "metadata": {},
     "output_type": "execute_result"
    }
   ],
   "source": [
    "sum"
   ]
  },
  {
   "cell_type": "markdown",
   "id": "1c5157a3",
   "metadata": {},
   "source": [
    "# Filter out values of equal or greater than 2"
   ]
  },
  {
   "cell_type": "code",
   "execution_count": 31,
   "id": "d773125f",
   "metadata": {},
   "outputs": [
    {
     "data": {
      "text/plain": [
       "6"
      ]
     },
     "execution_count": 31,
     "metadata": {},
     "output_type": "execute_result"
    }
   ],
   "source": [
    "sum"
   ]
  },
  {
   "cell_type": "code",
   "execution_count": 32,
   "id": "19ddce1f",
   "metadata": {},
   "outputs": [
    {
     "ename": "AttributeError",
     "evalue": "'int' object has no attribute 'items'",
     "output_type": "error",
     "traceback": [
      "\u001b[1;31m---------------------------------------------------------------------------\u001b[0m",
      "\u001b[1;31mAttributeError\u001b[0m                            Traceback (most recent call last)",
      "Cell \u001b[1;32mIn[32], line 1\u001b[0m\n\u001b[1;32m----> 1\u001b[0m \u001b[38;5;28msum\u001b[39m \u001b[38;5;241m=\u001b[39m \u001b[38;5;28mdict\u001b[39m((key,value) \u001b[38;5;28;01mfor\u001b[39;00m key,value \u001b[38;5;129;01min\u001b[39;00m \u001b[38;5;28;43msum\u001b[39;49m\u001b[38;5;241;43m.\u001b[39;49m\u001b[43mitems\u001b[49m() \u001b[38;5;28;01mif\u001b[39;00m value \u001b[38;5;241m<\u001b[39m\u001b[38;5;241m=\u001b[39m \u001b[38;5;241m1\u001b[39m)\n",
      "\u001b[1;31mAttributeError\u001b[0m: 'int' object has no attribute 'items'"
     ]
    }
   ],
   "source": [
    "sum = dict((key,value) for key,value in sum.items() if value <= 1)"
   ]
  },
  {
   "cell_type": "markdown",
   "id": "b4946e1d",
   "metadata": {},
   "source": [
    "# Create a dictionary of keys a,b and c where each key has as value a list from 1 to 10,11 to 20 and 21 to 30 respectively and print out"
   ]
  },
  {
   "cell_type": "code",
   "execution_count": 2,
   "id": "76ce21e6",
   "metadata": {},
   "outputs": [],
   "source": [
    "sum = dict(a=list(range(1,11)),b=list(range(11,21)),c=list(range(21,31)))"
   ]
  },
  {
   "cell_type": "code",
   "execution_count": 3,
   "id": "7bbd3130",
   "metadata": {},
   "outputs": [
    {
     "name": "stdout",
     "output_type": "stream",
     "text": [
      "{'a': [1, 2, 3, 4, 5, 6, 7, 8, 9, 10], 'b': [11, 12, 13, 14, 15, 16, 17, 18, 19, 20], 'c': [21, 22, 23, 24, 25, 26, 27, 28, 29, 30]}\n"
     ]
    }
   ],
   "source": [
    "print(sum)"
   ]
  },
  {
   "cell_type": "code",
   "execution_count": 4,
   "id": "9c92613f",
   "metadata": {},
   "outputs": [
    {
     "name": "stdout",
     "output_type": "stream",
     "text": [
      "[11, 12, 13, 14, 15, 16, 17, 18, 19, 20]\n"
     ]
    }
   ],
   "source": [
    "print(sum['b'])"
   ]
  },
  {
   "cell_type": "code",
   "execution_count": null,
   "id": "50775711",
   "metadata": {},
   "outputs": [],
   "source": []
  },
  {
   "cell_type": "code",
   "execution_count": 6,
   "id": "c5219f15",
   "metadata": {},
   "outputs": [
    {
     "name": "stdout",
     "output_type": "stream",
     "text": [
      "a\n",
      "b\n",
      "c\n",
      "d\n",
      "e\n",
      "f\n",
      "g\n",
      "h\n",
      "i\n",
      "j\n",
      "k\n",
      "l\n",
      "m\n",
      "n\n",
      "o\n",
      "p\n",
      "q\n",
      "r\n",
      "s\n",
      "t\n",
      "u\n",
      "v\n",
      "w\n",
      "x\n",
      "y\n",
      "z\n"
     ]
    }
   ],
   "source": [
    "import string\n",
    "\n",
    "for x in string.ascii_lowercase:\n",
    "    print(x)"
   ]
  },
  {
   "cell_type": "code",
   "execution_count": 8,
   "id": "e6814356",
   "metadata": {},
   "outputs": [
    {
     "name": "stdout",
     "output_type": "stream",
     "text": [
      "1\n",
      "2\n",
      "3\n",
      "4\n",
      "5\n",
      "6\n",
      "7\n",
      "8\n",
      "9\n",
      "10\n",
      "11\n",
      "12\n",
      "13\n",
      "14\n",
      "15\n",
      "16\n",
      "17\n",
      "18\n",
      "19\n",
      "20\n"
     ]
    }
   ],
   "source": [
    "import re\n",
    "\n",
    "for x in range(1,21):\n",
    "    print(x)"
   ]
  },
  {
   "cell_type": "markdown",
   "id": "4d261d8c",
   "metadata": {},
   "source": [
    "# write a function that contains acceleration given the formula a=v2-v1/t2-t1"
   ]
  },
  {
   "cell_type": "code",
   "execution_count": 10,
   "id": "a7020360",
   "metadata": {},
   "outputs": [
    {
     "name": "stdout",
     "output_type": "stream",
     "text": [
      "The acceleration is :<function total_acceleration at 0x000001BC84D6BDC0>m/s^2\n"
     ]
    }
   ],
   "source": [
    "def total_acceleration(v2,v1,t2,t1):\n",
    "    acceleration = v2-v1/t2-t1\n",
    "    return total_acceleration\n",
    "v2 = 50 #Final acceleration\n",
    "v1 = 30 #initial acceleration\n",
    "t2 = 5  #final time\n",
    "t1 = 5  #initial time\n",
    "acceleration = total_acceleration(v2,v1,t2,t1)\n",
    "print(f\"The acceleration is :{total_acceleration}m/s^2\")"
   ]
  },
  {
   "cell_type": "markdown",
   "id": "41f1afb5",
   "metadata": {},
   "source": [
    "# the script is supposed to print cos 90"
   ]
  },
  {
   "cell_type": "code",
   "execution_count": 15,
   "id": "2506a0e2",
   "metadata": {},
   "outputs": [
    {
     "name": "stdout",
     "output_type": "stream",
     "text": [
      "The value of cos pi / 6 is : \n",
      "0.8660254037844387\n"
     ]
    }
   ],
   "source": [
    "import math \n",
    "    \n",
    "a = math.pi / 6\n",
    "     \n",
    "\n",
    "print (f\"The value of cos pi / 6 is : \") \n",
    "print (math.cos(a)) "
   ]
  },
  {
   "cell_type": "markdown",
   "id": "73a2dc84",
   "metadata": {},
   "source": [
    "# Create a script that generates 26 text files, each containing one letter of English alphabet as a name and as text inside."
   ]
  },
  {
   "cell_type": "code",
   "execution_count": 16,
   "id": "4e67ca61",
   "metadata": {},
   "outputs": [],
   "source": [
    "import string\n",
    "alphabet= string.ascii_lowercase\n",
    "for letter in alphabet:\n",
    "    with open(letter,'w') as file:\n",
    "        file.write(letter)"
   ]
  },
  {
   "cell_type": "code",
   "execution_count": null,
   "id": "e29f6c47",
   "metadata": {},
   "outputs": [],
   "source": []
  }
 ],
 "metadata": {
  "kernelspec": {
   "display_name": "Python 3 (ipykernel)",
   "language": "python",
   "name": "python3"
  },
  "language_info": {
   "codemirror_mode": {
    "name": "ipython",
    "version": 3
   },
   "file_extension": ".py",
   "mimetype": "text/x-python",
   "name": "python",
   "nbconvert_exporter": "python",
   "pygments_lexer": "ipython3",
   "version": "3.9.16"
  }
 },
 "nbformat": 4,
 "nbformat_minor": 5
}
