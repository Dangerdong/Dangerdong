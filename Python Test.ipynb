{
 "cells": [
  {
   "cell_type": "code",
   "execution_count": 41,
   "id": "ad52497d",
   "metadata": {},
   "outputs": [
    {
     "ename": "NameError",
     "evalue": "name 'binary_fractional_part' is not defined",
     "output_type": "error",
     "traceback": [
      "\u001b[1;31m---------------------------------------------------------------------------\u001b[0m",
      "\u001b[1;31mNameError\u001b[0m                                 Traceback (most recent call last)",
      "Cell \u001b[1;32mIn[41], line 5\u001b[0m\n\u001b[0;32m      3\u001b[0m         \u001b[38;5;28;01mraise\u001b[39;00m VaueError(\u001b[38;5;124m\"\u001b[39m\u001b[38;5;124mValue should between 0 and 1\u001b[39m\u001b[38;5;124m\"\u001b[39m)\n\u001b[0;32m      4\u001b[0m binary_fractional_values \u001b[38;5;241m=\u001b[39m []\n\u001b[1;32m----> 5\u001b[0m \u001b[38;5;28;01mwhile\u001b[39;00m num \u001b[38;5;241m>\u001b[39m \u001b[38;5;241m0\u001b[39m \u001b[38;5;129;01mand\u001b[39;00m \u001b[38;5;28mlen\u001b[39m(binary_fractional_part) \u001b[38;5;241m<\u001b[39m \u001b[38;5;241m8\u001b[39m: \u001b[38;5;66;03m#num must be allow 0 and binary must be less than 8\u001b[39;00m\n\u001b[0;32m      6\u001b[0m     \u001b[38;5;28;01mif\u001b[39;00m num \u001b[38;5;241m>\u001b[39m\u001b[38;5;241m=\u001b[39m \u001b[38;5;241m1\u001b[39m: \u001b[38;5;66;03m#num should be greater than or equal to 1\u001b[39;00m\n\u001b[0;32m      7\u001b[0m         binary_fractional_part(\u001b[38;5;241m1\u001b[39m)\n",
      "\u001b[1;31mNameError\u001b[0m: name 'binary_fractional_part' is not defined"
     ]
    }
   ],
   "source": [
    "def float_to_bin(num): #defining the func float to binary conversion\n",
    "    if num >= 1 or num <= 0: #conditions\n",
    "        raise VaueError(\"Value should between 0 and 1\")\n",
    "binary_fractional_values = []\n",
    "while num > 0 and len(binary_fractional_part) < 8: #num must be allow 0 and binary must be less than 8\n",
    "    if num >= 1: #num should be greater than or equal to 1\n",
    "        binary_fractional_part(1)\n",
    "else:\n",
    "    binary_fractional_part(0)\n",
    "return binary_fractional_part\n",
    "#Defining num values\n",
    "num = 0.75\n",
    "binary_representation_values = float_to_bin(num)\n",
    "print(binary_representation_values)"
   ]
  },
  {
   "cell_type": "code",
   "execution_count": null,
   "id": "249a1ed4",
   "metadata": {},
   "outputs": [],
   "source": []
  }
 ],
 "metadata": {
  "kernelspec": {
   "display_name": "Python 3 (ipykernel)",
   "language": "python",
   "name": "python3"
  },
  "language_info": {
   "codemirror_mode": {
    "name": "ipython",
    "version": 3
   },
   "file_extension": ".py",
   "mimetype": "text/x-python",
   "name": "python",
   "nbconvert_exporter": "python",
   "pygments_lexer": "ipython3",
   "version": "3.11.5"
  }
 },
 "nbformat": 4,
 "nbformat_minor": 5
}
