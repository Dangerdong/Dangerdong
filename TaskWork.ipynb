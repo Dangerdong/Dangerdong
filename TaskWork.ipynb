{
 "cells": [
  {
   "cell_type": "markdown",
   "id": "419c1e30",
   "metadata": {},
   "source": [
    "# Number guessing game"
   ]
  },
  {
   "cell_type": "code",
   "execution_count": 4,
   "id": "3e4be766",
   "metadata": {},
   "outputs": [
    {
     "name": "stdout",
     "output_type": "stream",
     "text": [
      "Guess the number in base 9. You have 3 attempts.\n",
      "Guess the number in base 9: 10\n",
      "Incorrect guess. Try again.\n",
      "Guess the number in base 9: 1\n",
      "Incorrect guess. Try again.\n",
      "Guess the number in base 9: 2\n",
      "Sorry, you've run out of guesses. The correct number was 33169 in base 9.\n"
     ]
    }
   ],
   "source": [
    "import random\n",
    "\n",
    "def num(base):\n",
    "    max_num = int(\"F\" * 4, base=16)  # Maximum number in base 16\n",
    "    return random.randint(1, max_num)\n",
    "\n",
    "def user_guess(base):\n",
    "    while True:\n",
    "        try:\n",
    "            user_input = input(f\"Guess the number in base {base}: \")\n",
    "            user_guess = int(user_input, base=base)\n",
    "            return user_guess\n",
    "        except ValueError:\n",
    "            print(\"Invalid input. Please enter a valid number in the chosen base.\")\n",
    "\n",
    "def main():\n",
    "    base = random.randint(2, 16)\n",
    "    num = num(base)\n",
    "    max_attempts = 3\n",
    "    attempts = 0\n",
    "\n",
    "    print(f\"Guess the num in base {base}. You have {max_attempts} attempts.\")\n",
    "\n",
    "    while attempts < max_attempts:\n",
    "        user = user_guess(base)\n",
    "        attempts += 1\n",
    "\n",
    "        if user_guess == num:\n",
    "            print(f\"Congratulations! You've guessed the correct number {num} in base {base}.\")\n",
    "            break\n",
    "        else:\n",
    "            if attempts < max_attempts:\n",
    "                print(\"Incorrect guess. Try again.\")\n",
    "            else:\n",
    "                print(f\"Sorry, you've run out of guesses. The correct number was {num} in base {base}.\")\n",
    "\n",
    "\n"
   ]
  },
  {
   "cell_type": "markdown",
   "id": "ad360578",
   "metadata": {},
   "source": [
    "# Word Guessing Game"
   ]
  },
  {
   "cell_type": "code",
   "execution_count": null,
   "id": "9c7e1828",
   "metadata": {},
   "outputs": [
    {
     "name": "stdout",
     "output_type": "stream",
     "text": [
      "Welcome to the Word Guessing Game!\n",
      "You need to guess a word with 2 to 5 letters.\n",
      "Each time you guess, you will be told to guess an earlier or later word in the dictionary.\n",
      "Guess the word: Had\n",
      "Try guessing an earlier word in the dictionary.\n",
      "Guess the word: Has\n",
      "Try guessing an earlier word in the dictionary.\n",
      "Guess the word: Will \n",
      "Try guessing an earlier word in the dictionary.\n",
      "Guess the word: Work\n",
      "Try guessing an earlier word in the dictionary.\n",
      "Guess the word: I don't have idea\n",
      "Try guessing an earlier word in the dictionary.\n",
      "Guess the word: how\n",
      "Try guessing an earlier word in the dictionary.\n",
      "Guess the word: Hello\n",
      "Try guessing an earlier word in the dictionary.\n",
      "Guess the word: Mate\n",
      "Try guessing an earlier word in the dictionary.\n",
      "Guess the word: Today\n",
      "Try guessing an earlier word in the dictionary.\n",
      "Guess the word: Tommorow\n",
      "Try guessing an earlier word in the dictionary.\n"
     ]
    }
   ],
   "source": [
    "import random\n",
    "\n",
    "def random_words():\n",
    "    # List of words with 2 to 5 letters (you can add more words as needed).\n",
    "    word_list = [\"cat\", \"dog\", \"bird\", \"fish\", \"tree\", \"book\", \"moon\", \"star\"]\n",
    "    return random.choice(word_list)\n",
    "\n",
    "def main():\n",
    "    random_word = random_words()\n",
    "    attempts = 0\n",
    "\n",
    "    print(\"Welcome to the Word Guessing Game!\")\n",
    "    print(\"You need to guess a word with 2 to 5 letters.\")\n",
    "    print(\"Each time you guess, you will be told to guess an earlier or later word in the dictionary.\")\n",
    "\n",
    "    while True:\n",
    "        user_guess = input(\"Guess the word: \").strip().lower()\n",
    "        attempts += 1\n",
    "\n",
    "        if user_guess == random_words:\n",
    "            print(f\"Congratulations! You've guessed the word '{random_word}' in {attempts} attempts.\")\n",
    "            break\n",
    "        elif user_guess < random_word:\n",
    "            print(\"Try guessing a later word in the dictionary.\")\n",
    "        else:\n",
    "            print(\"Try guessing an earlier word in the dictionary.\")\n",
    "\n"
   ]
  },
  {
   "cell_type": "code",
   "execution_count": null,
   "id": "d43a48ca",
   "metadata": {},
   "outputs": [],
   "source": []
  }
 ],
 "metadata": {
  "kernelspec": {
   "display_name": "Python 3 (ipykernel)",
   "language": "python",
   "name": "python3"
  },
  "language_info": {
   "codemirror_mode": {
    "name": "ipython",
    "version": 3
   },
   "file_extension": ".py",
   "mimetype": "text/x-python",
   "name": "python",
   "nbconvert_exporter": "python",
   "pygments_lexer": "ipython3",
   "version": "3.11.5"
  }
 },
 "nbformat": 4,
 "nbformat_minor": 5
}
