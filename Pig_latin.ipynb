{
  "nbformat": 4,
  "nbformat_minor": 0,
  "metadata": {
    "colab": {
      "provenance": []
    },
    "kernelspec": {
      "name": "python3",
      "display_name": "Python 3"
    },
    "language_info": {
      "name": "python"
    }
  },
  "cells": [
    {
      "cell_type": "markdown",
      "source": [
        "\n",
        "\n",
        "1. Checking the first letter for vowel\n",
        "       * for vowel in 'aeiou':\n",
        "             if word[0] == vowel:\n",
        "\n"
      ],
      "metadata": {
        "id": "cGG4RR-zUoMJ"
      }
    },
    {
      "cell_type": "code",
      "execution_count": null,
      "metadata": {
        "id": "YRlDCTPoUDjr"
      },
      "outputs": [],
      "source": [
        "def pig_latin(word):\n",
        "  if word[0] in 'aeiou':\n",
        "    return f'{word}way'\n",
        "  return f'{word[1:]}{word[0]}ay'"
      ]
    },
    {
      "cell_type": "code",
      "source": [
        "word = 'apple'"
      ],
      "metadata": {
        "id": "s-VzSKtYVx-f"
      },
      "execution_count": null,
      "outputs": []
    },
    {
      "cell_type": "code",
      "source": [
        "word[1:]"
      ],
      "metadata": {
        "colab": {
          "base_uri": "https://localhost:8080/",
          "height": 36
        },
        "id": "4NC7Ifq3Vzxr",
        "outputId": "bea077e0-6379-4c8d-88e6-c82509e41b29"
      },
      "execution_count": null,
      "outputs": [
        {
          "output_type": "execute_result",
          "data": {
            "text/plain": [
              "'pple'"
            ],
            "application/vnd.google.colaboratory.intrinsic+json": {
              "type": "string"
            }
          },
          "metadata": {},
          "execution_count": 3
        }
      ]
    },
    {
      "cell_type": "code",
      "source": [
        "pig_latin('apple')"
      ],
      "metadata": {
        "colab": {
          "base_uri": "https://localhost:8080/",
          "height": 36
        },
        "id": "a8corGvGV62a",
        "outputId": "0e772815-749d-4fbd-af0f-673caeaf1d90"
      },
      "execution_count": null,
      "outputs": [
        {
          "output_type": "execute_result",
          "data": {
            "text/plain": [
              "'appleway'"
            ],
            "application/vnd.google.colaboratory.intrinsic+json": {
              "type": "string"
            }
          },
          "metadata": {},
          "execution_count": 5
        }
      ]
    },
    {
      "cell_type": "code",
      "source": [
        "pig_latin('Butterfly')"
      ],
      "metadata": {
        "colab": {
          "base_uri": "https://localhost:8080/",
          "height": 36
        },
        "id": "wEONBConWJ4Q",
        "outputId": "eac9e4f6-48a4-428b-9fd6-97627d37b30e"
      },
      "execution_count": null,
      "outputs": [
        {
          "output_type": "execute_result",
          "data": {
            "text/plain": [
              "'utterflyBay'"
            ],
            "application/vnd.google.colaboratory.intrinsic+json": {
              "type": "string"
            }
          },
          "metadata": {},
          "execution_count": 6
        }
      ]
    },
    {
      "cell_type": "code",
      "source": [
        "pig_latin('PYTHON')"
      ],
      "metadata": {
        "colab": {
          "base_uri": "https://localhost:8080/",
          "height": 36
        },
        "id": "AAzW20AoWQsf",
        "outputId": "b3fb2baa-b694-43b7-800a-653b9ac74a53"
      },
      "execution_count": null,
      "outputs": [
        {
          "output_type": "execute_result",
          "data": {
            "text/plain": [
              "'YTHONPay'"
            ],
            "application/vnd.google.colaboratory.intrinsic+json": {
              "type": "string"
            }
          },
          "metadata": {},
          "execution_count": 7
        }
      ]
    },
    {
      "cell_type": "code",
      "source": [
        "pig_latin('சிங்கம்')"
      ],
      "metadata": {
        "colab": {
          "base_uri": "https://localhost:8080/",
          "height": 36
        },
        "id": "YHjmX-TsWy-t",
        "outputId": "188efedc-1e58-4509-de90-e78f5890be1d"
      },
      "execution_count": null,
      "outputs": [
        {
          "output_type": "execute_result",
          "data": {
            "text/plain": [
              "'ிங்கம்சay'"
            ],
            "application/vnd.google.colaboratory.intrinsic+json": {
              "type": "string"
            }
          },
          "metadata": {},
          "execution_count": 9
        }
      ]
    },
    {
      "cell_type": "code",
      "source": [
        "pig_latin('cங்கம்')"
      ],
      "metadata": {
        "colab": {
          "base_uri": "https://localhost:8080/",
          "height": 36
        },
        "id": "R4QUdZofXRev",
        "outputId": "c1d3b1af-7e6d-4ee4-cb6a-39911d397433"
      },
      "execution_count": null,
      "outputs": [
        {
          "output_type": "execute_result",
          "data": {
            "text/plain": [
              "'ங்கம்cay'"
            ],
            "application/vnd.google.colaboratory.intrinsic+json": {
              "type": "string"
            }
          },
          "metadata": {},
          "execution_count": 10
        }
      ]
    },
    {
      "cell_type": "code",
      "source": [
        "def pig_latin(word):\n",
        "  is_capitalized = word[0].isupper()\n",
        "  word = word.lower()\n",
        "  if word[0] in 'aeiou':\n",
        "    result = f'{word}way'\n",
        "  else:\n",
        "    result = f'{word[1:]}{word[0]}ay'\n",
        "\n",
        "  if is_capitalized:\n",
        "    result = result.capitalize()\n",
        "  return result"
      ],
      "metadata": {
        "id": "lFIOs6o3XoLN"
      },
      "execution_count": null,
      "outputs": []
    },
    {
      "cell_type": "code",
      "source": [
        "pig_latin('Python')"
      ],
      "metadata": {
        "colab": {
          "base_uri": "https://localhost:8080/",
          "height": 36
        },
        "id": "xQUQOVR4aUoq",
        "outputId": "f93eb60f-1dd9-4817-b67b-f6e2f1ad10de"
      },
      "execution_count": null,
      "outputs": [
        {
          "output_type": "execute_result",
          "data": {
            "text/plain": [
              "'Ythonpay'"
            ],
            "application/vnd.google.colaboratory.intrinsic+json": {
              "type": "string"
            }
          },
          "metadata": {},
          "execution_count": 12
        }
      ]
    },
    {
      "cell_type": "code",
      "source": [
        "pig_latin('Butterfly,')"
      ],
      "metadata": {
        "colab": {
          "base_uri": "https://localhost:8080/",
          "height": 36
        },
        "id": "hi8-n5g8akw1",
        "outputId": "69aada09-3d42-474b-891c-8660461ebf6b"
      },
      "execution_count": null,
      "outputs": [
        {
          "output_type": "execute_result",
          "data": {
            "text/plain": [
              "'Utterfly,bay'"
            ],
            "application/vnd.google.colaboratory.intrinsic+json": {
              "type": "string"
            }
          },
          "metadata": {},
          "execution_count": 16
        }
      ]
    },
    {
      "cell_type": "code",
      "source": [
        "pig_latin('america')"
      ],
      "metadata": {
        "colab": {
          "base_uri": "https://localhost:8080/",
          "height": 36
        },
        "id": "bVRlGFvsaYXd",
        "outputId": "527f512c-dbdd-4a6b-c0e6-efa38157a3c7"
      },
      "execution_count": null,
      "outputs": [
        {
          "output_type": "execute_result",
          "data": {
            "text/plain": [
              "'americaway'"
            ],
            "application/vnd.google.colaboratory.intrinsic+json": {
              "type": "string"
            }
          },
          "metadata": {},
          "execution_count": 14
        }
      ]
    },
    {
      "cell_type": "code",
      "source": [
        "pig_latin('madam')"
      ],
      "metadata": {
        "colab": {
          "base_uri": "https://localhost:8080/",
          "height": 36
        },
        "id": "m5yP0o7zbHwN",
        "outputId": "35e0bf0e-7f84-4361-b6b7-114ad95bdb28"
      },
      "execution_count": null,
      "outputs": [
        {
          "output_type": "execute_result",
          "data": {
            "text/plain": [
              "'adammay'"
            ],
            "application/vnd.google.colaboratory.intrinsic+json": {
              "type": "string"
            }
          },
          "metadata": {},
          "execution_count": 15
        }
      ]
    },
    {
      "cell_type": "code",
      "source": [
        "import string\n",
        "\n",
        "def pig_latin(word):\n",
        "  is_capitalized = word[0].isupper() # Sets it to true\n",
        "\n",
        "\n",
        "  punctuation = ''\n",
        "  if word[-1] in string.punctuation:\n",
        "    punctuation = word[-1]\n",
        "    word = word[:-1]\n",
        "\n",
        "  word = word.lower()\n",
        "\n",
        "  if word[0] in 'aeiou':\n",
        "    result = f'{word}way'\n",
        "  else:\n",
        "    result = f'{word[1:]}{word[0]}ay'\n",
        "\n",
        "  result += punctuation\n",
        "  if is_capitalized:\n",
        "    result = result.capitalize()\n",
        "  return result\n",
        "\n"
      ],
      "metadata": {
        "id": "ZMOglTmrbc5q"
      },
      "execution_count": null,
      "outputs": []
    },
    {
      "cell_type": "code",
      "source": [
        "pig_latin('Butterfly,')"
      ],
      "metadata": {
        "colab": {
          "base_uri": "https://localhost:8080/",
          "height": 36
        },
        "id": "nPJZTGexQ3Np",
        "outputId": "035d50a4-5ae2-4cd1-ea77-5b6b39c4b947"
      },
      "execution_count": null,
      "outputs": [
        {
          "output_type": "execute_result",
          "data": {
            "text/plain": [
              "'Utterflybay,'"
            ],
            "application/vnd.google.colaboratory.intrinsic+json": {
              "type": "string"
            }
          },
          "metadata": {},
          "execution_count": 5
        }
      ]
    },
    {
      "cell_type": "code",
      "source": [
        "import string\n",
        "\n",
        "def pig_latin(word):\n",
        "  vowels = set('aeiou')\n",
        "\n",
        "  is_capitalized = word[0].isupper()\n",
        "\n",
        "  punctuation = ''\n",
        "  if word[-1] in string.punctuation:\n",
        "    punctuation = word[-1]\n",
        "    word = word[:-1]\n",
        "\n",
        "  word_lower = word.lower()\n",
        "\n",
        "  unique_vowels = vowels.intersection(set(word_lower))  # Check if the word contains two different vowels\n",
        "\n",
        "  if len(unique_vowels)>= 2:\n",
        "    result = f'{word_lower}way'\n",
        "  else:\n",
        "    result = f'{word_lower[1:]}{word_lower[0]}ay'\n",
        "\n",
        "  result += punctuation\n",
        "\n",
        "  if is_capitalized:\n",
        "    result = result.capitalize()\n",
        "\n",
        "  return result\n",
        "\n",
        "\n",
        "\n",
        "\n"
      ],
      "metadata": {
        "id": "iq_CFEV_Q7gm"
      },
      "execution_count": null,
      "outputs": []
    },
    {
      "cell_type": "code",
      "source": [
        "pig_latin('wine')"
      ],
      "metadata": {
        "colab": {
          "base_uri": "https://localhost:8080/",
          "height": 36
        },
        "id": "nQIr2AQ7Ujgb",
        "outputId": "0957d02d-1b00-488d-cc07-ff7c40423a95"
      },
      "execution_count": null,
      "outputs": [
        {
          "output_type": "execute_result",
          "data": {
            "text/plain": [
              "'wineway'"
            ],
            "application/vnd.google.colaboratory.intrinsic+json": {
              "type": "string"
            }
          },
          "metadata": {},
          "execution_count": 8
        }
      ]
    },
    {
      "cell_type": "code",
      "source": [
        "pig_latin('wind')"
      ],
      "metadata": {
        "colab": {
          "base_uri": "https://localhost:8080/",
          "height": 36
        },
        "id": "FomSyXjtU0V1",
        "outputId": "ad0096d5-ee7e-463d-b82f-a0c198ec2371"
      },
      "execution_count": null,
      "outputs": [
        {
          "output_type": "execute_result",
          "data": {
            "text/plain": [
              "'indway'"
            ],
            "application/vnd.google.colaboratory.intrinsic+json": {
              "type": "string"
            }
          },
          "metadata": {},
          "execution_count": 9
        }
      ]
    },
    {
      "cell_type": "code",
      "source": [
        "pig_latin('Python!')"
      ],
      "metadata": {
        "id": "l-POqMYPU3ru",
        "outputId": "dcc3dd31-5881-4487-f5a6-40e4051c12ff",
        "colab": {
          "base_uri": "https://localhost:8080/",
          "height": 36
        }
      },
      "execution_count": null,
      "outputs": [
        {
          "output_type": "execute_result",
          "data": {
            "text/plain": [
              "'Ythonpay!'"
            ],
            "application/vnd.google.colaboratory.intrinsic+json": {
              "type": "string"
            }
          },
          "metadata": {},
          "execution_count": 10
        }
      ]
    },
    {
      "cell_type": "code",
      "source": [],
      "metadata": {
        "id": "9rJLdbmfU8el"
      },
      "execution_count": null,
      "outputs": []
    }
  ]
}