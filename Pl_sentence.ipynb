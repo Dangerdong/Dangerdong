{
  "nbformat": 4,
  "nbformat_minor": 0,
  "metadata": {
    "colab": {
      "provenance": []
    },
    "kernelspec": {
      "name": "python3",
      "display_name": "Python 3"
    },
    "language_info": {
      "name": "python"
    }
  },
  "cells": [
    {
      "cell_type": "code",
      "execution_count": null,
      "metadata": {
        "id": "u2hoaM78vcyA"
      },
      "outputs": [],
      "source": [
        "\"this is a test translation\" ----> histay isway away esttay ranslationtay"
      ]
    },
    {
      "cell_type": "code",
      "source": [
        "def pl_sentence(sentence):\n",
        "  def is_vowel(letter):\n",
        "    return letter in 'aeiou'\n",
        "\n",
        "  words = sentence.split()\n",
        "\n",
        "  translated_words = []\n",
        "\n",
        "  for word in words:\n",
        "    if is_vowel(word[0]):\n",
        "      new_word = word + 'way'\n",
        "    else:\n",
        "      new_word = word[1:] + word[0] +'ay'\n",
        "    translated_words.append(new_word)\n",
        "  pig_latin_sentence = ' '.join(translated_words)\n",
        "\n",
        "  return pig_latin_sentence"
      ],
      "metadata": {
        "id": "eUn7ccYNwNDV"
      },
      "execution_count": null,
      "outputs": []
    },
    {
      "cell_type": "code",
      "source": [
        "pl_sentence(\"this is a test translation\")"
      ],
      "metadata": {
        "colab": {
          "base_uri": "https://localhost:8080/",
          "height": 36
        },
        "id": "MdIXdENlxkEP",
        "outputId": "382bba97-13b4-432a-f505-352cbf66a71c"
      },
      "execution_count": null,
      "outputs": [
        {
          "output_type": "execute_result",
          "data": {
            "text/plain": [
              "'histay isway away esttay ranslationtay'"
            ],
            "application/vnd.google.colaboratory.intrinsic+json": {
              "type": "string"
            }
          },
          "metadata": {},
          "execution_count": 2
        }
      ]
    },
    {
      "cell_type": "code",
      "source": [
        "['abc def ghi', 'jkl mno pqr', 'stu vwx yz'] ----> ['abc jkl stu', 'def mno vwx', 'ghi pqr yz']"
      ],
      "metadata": {
        "id": "V2x1PBX-xxKT"
      },
      "execution_count": null,
      "outputs": []
    },
    {
      "cell_type": "code",
      "source": [
        "def transpose_words(list_of_strings):\n",
        "  word_matrix = []\n",
        "  for text in list_of_strings:\n",
        "    words_in_string = text.split(' ')\n",
        "    word_matrix.append(words_in_string)\n",
        "\n",
        "\n",
        "  number_of_words = [len(word_list) for word_list in word_matrix]\n",
        "  if len(set(number_of_words)) > 1:\n",
        "    return 'Error: All the strings must have the same number of words'\n",
        "\n",
        "  transposed_words = []\n",
        "  for index in range(len(word_matrix[0])):\n",
        "    word_at_index = [word_list[index] for word_list in word_matrix]\n",
        "    transposed_words.append(word_at_index)\n",
        "\n",
        "  transposed_strings = []\n",
        "  for word_list in transposed_words:\n",
        "    new_string = ' '.join(word_list)\n",
        "    transposed_strings.append(new_string)\n",
        "\n",
        "  return transposed_strings"
      ],
      "metadata": {
        "id": "piA-qjCsx4lU"
      },
      "execution_count": null,
      "outputs": []
    },
    {
      "cell_type": "code",
      "source": [
        "transpose_words(['abc def ghi', 'jkl mno pqr', 'stu vwx yz'])"
      ],
      "metadata": {
        "colab": {
          "base_uri": "https://localhost:8080/"
        },
        "id": "41qtOvwK52MQ",
        "outputId": "62f0e33d-1b1a-495e-aac3-565257f6b756"
      },
      "execution_count": null,
      "outputs": [
        {
          "output_type": "execute_result",
          "data": {
            "text/plain": [
              "['abc jkl stu', 'def mno vwx', 'ghi pqr yz']"
            ]
          },
          "metadata": {},
          "execution_count": 8
        }
      ]
    },
    {
      "cell_type": "code",
      "source": [],
      "metadata": {
        "id": "uJ9tQ_mR6JqI"
      },
      "execution_count": null,
      "outputs": []
    }
  ]
}