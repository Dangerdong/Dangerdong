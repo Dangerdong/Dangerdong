{
  "nbformat": 4,
  "nbformat_minor": 0,
  "metadata": {
    "colab": {
      "provenance": []
    },
    "kernelspec": {
      "name": "python3",
      "display_name": "Python 3"
    },
    "language_info": {
      "name": "python"
    }
  },
  "cells": [
    {
      "cell_type": "code",
      "execution_count": null,
      "metadata": {
        "id": "11OQWMyOrtym"
      },
      "outputs": [],
      "source": [
        "a = 'apple'"
      ]
    },
    {
      "cell_type": "code",
      "source": [
        "a[0] = 'p'"
      ],
      "metadata": {
        "colab": {
          "base_uri": "https://localhost:8080/",
          "height": 181
        },
        "id": "sQhrOBiusCEd",
        "outputId": "9f724284-b2e1-4c67-9533-91a0ea56f129"
      },
      "execution_count": null,
      "outputs": [
        {
          "output_type": "error",
          "ename": "TypeError",
          "evalue": "ignored",
          "traceback": [
            "\u001b[0;31m---------------------------------------------------------------------------\u001b[0m",
            "\u001b[0;31mTypeError\u001b[0m                                 Traceback (most recent call last)",
            "\u001b[0;32m<ipython-input-4-e8c55d024dfe>\u001b[0m in \u001b[0;36m<cell line: 1>\u001b[0;34m()\u001b[0m\n\u001b[0;32m----> 1\u001b[0;31m \u001b[0ma\u001b[0m\u001b[0;34m[\u001b[0m\u001b[0;36m0\u001b[0m\u001b[0;34m]\u001b[0m \u001b[0;34m=\u001b[0m \u001b[0;34m'p'\u001b[0m\u001b[0;34m\u001b[0m\u001b[0;34m\u001b[0m\u001b[0m\n\u001b[0m",
            "\u001b[0;31mTypeError\u001b[0m: 'str' object does not support item assignment"
          ]
        }
      ]
    },
    {
      "cell_type": "code",
      "source": [
        "strsort('cba') ----> abc"
      ],
      "metadata": {
        "id": "VfNaTZ-tsVPL"
      },
      "execution_count": null,
      "outputs": []
    },
    {
      "cell_type": "code",
      "source": [
        "def strsort(ip_string):\n",
        "  return ''.join(sorted(ip_string))\n"
      ],
      "metadata": {
        "id": "Auqj2twks7jU"
      },
      "execution_count": null,
      "outputs": []
    },
    {
      "cell_type": "code",
      "source": [
        "sorted('cba')"
      ],
      "metadata": {
        "colab": {
          "base_uri": "https://localhost:8080/"
        },
        "id": "sFIeXAmHtEzH",
        "outputId": "bb1ad0a5-3a84-4e24-be22-30a8916b1650"
      },
      "execution_count": null,
      "outputs": [
        {
          "output_type": "execute_result",
          "data": {
            "text/plain": [
              "['a', 'b', 'c']"
            ]
          },
          "metadata": {},
          "execution_count": 5
        }
      ]
    },
    {
      "cell_type": "code",
      "source": [
        "print(strsort('apple'))"
      ],
      "metadata": {
        "colab": {
          "base_uri": "https://localhost:8080/"
        },
        "id": "sGj3a5GBtHpl",
        "outputId": "592fd4ba-9039-4968-eb45-7087e7deba27"
      },
      "execution_count": null,
      "outputs": [
        {
          "output_type": "stream",
          "name": "stdout",
          "text": [
            "aelpp\n"
          ]
        }
      ]
    },
    {
      "cell_type": "code",
      "source": [
        "print(strsort('AppLE'))"
      ],
      "metadata": {
        "colab": {
          "base_uri": "https://localhost:8080/"
        },
        "id": "JC9rBsfZtU6P",
        "outputId": "a1728dae-f4d8-4858-9a60-318326363e00"
      },
      "execution_count": null,
      "outputs": [
        {
          "output_type": "stream",
          "name": "stdout",
          "text": [
            "AELpp\n"
          ]
        }
      ]
    },
    {
      "cell_type": "code",
      "source": [
        "print(strsort('tamil, arasan, Gowri'))"
      ],
      "metadata": {
        "colab": {
          "base_uri": "https://localhost:8080/"
        },
        "id": "7jZaADZ8taSq",
        "outputId": "c6df4921-b4b3-4f8e-9d18-2fbccb5e2b90"
      },
      "execution_count": null,
      "outputs": [
        {
          "output_type": "stream",
          "name": "stdout",
          "text": [
            "  ,,Gaaaaiilmnorrstw\n"
          ]
        }
      ]
    },
    {
      "cell_type": "code",
      "source": [
        "txt = \"welcome to the jungle\"\n",
        "\n",
        "x = txt.split()\n",
        "\n",
        "print(x)"
      ],
      "metadata": {
        "colab": {
          "base_uri": "https://localhost:8080/"
        },
        "id": "g7QmNoIltspk",
        "outputId": "e94e28be-41a6-48f1-aaab-2fbc48d33fcc"
      },
      "execution_count": null,
      "outputs": [
        {
          "output_type": "stream",
          "name": "stdout",
          "text": [
            "['welcome', 'to', 'the', 'jungle']\n"
          ]
        }
      ]
    },
    {
      "cell_type": "code",
      "source": [
        "print(x.sort())"
      ],
      "metadata": {
        "colab": {
          "base_uri": "https://localhost:8080/"
        },
        "id": "0uo0kwrcu5dk",
        "outputId": "227a31af-2cef-4175-8030-e0c61ca064d4"
      },
      "execution_count": null,
      "outputs": [
        {
          "output_type": "stream",
          "name": "stdout",
          "text": [
            "None\n"
          ]
        }
      ]
    },
    {
      "cell_type": "code",
      "source": [
        "sorted_string = ','.join(x)"
      ],
      "metadata": {
        "id": "cqi-klPNu-rH"
      },
      "execution_count": null,
      "outputs": []
    },
    {
      "cell_type": "code",
      "source": [
        "print(sorted_string)"
      ],
      "metadata": {
        "colab": {
          "base_uri": "https://localhost:8080/"
        },
        "id": "LGvT1_DqvKuo",
        "outputId": "d6a2591d-80e7-4065-dd68-7366131251cf"
      },
      "execution_count": null,
      "outputs": [
        {
          "output_type": "stream",
          "name": "stdout",
          "text": [
            "jungle,the,to,welcome\n"
          ]
        }
      ]
    },
    {
      "cell_type": "code",
      "source": [
        "def sorted_charc_words(s):\n",
        "  words = s.split()\n",
        "\n",
        "  sorted_words = [''.join(sorted(word)) for word in words]\n",
        "\n",
        "  sorted_words.sort()\n",
        "\n",
        "  sorted_string = ','.join(sorted_words)\n",
        "\n",
        "\n",
        "  return sorted_string"
      ],
      "metadata": {
        "id": "5L0qZfZYvORz"
      },
      "execution_count": null,
      "outputs": []
    },
    {
      "cell_type": "code",
      "source": [
        "print(sorted_charc_words(\"welcome to the jungle\"))"
      ],
      "metadata": {
        "colab": {
          "base_uri": "https://localhost:8080/"
        },
        "id": "-1kKG4bqwQ9V",
        "outputId": "74135c28-0234-4e8a-e997-027ba09c263c"
      },
      "execution_count": null,
      "outputs": [
        {
          "output_type": "stream",
          "name": "stdout",
          "text": [
            "ceelmow,egjlnu,eht,ot\n"
          ]
        }
      ]
    },
    {
      "cell_type": "code",
      "source": [
        "def sorted_charc_words(s):\n",
        "  words = s.split()\n",
        "\n",
        "  sorted_words = [''.join(sorted(word)) for word in words]\n",
        "\n",
        "\n",
        "  sorted_string = ','.join(sorted_words)\n",
        "\n",
        "\n",
        "  return sorted_string"
      ],
      "metadata": {
        "id": "UQu4fA35w9jo"
      },
      "execution_count": null,
      "outputs": []
    },
    {
      "cell_type": "code",
      "source": [
        "print(sorted_charc_words(\"welcome to the jungle\"))"
      ],
      "metadata": {
        "colab": {
          "base_uri": "https://localhost:8080/"
        },
        "id": "JiyiavlixCsb",
        "outputId": "71cbc7d6-2c9d-459c-d719-c88bf4bacd01"
      },
      "execution_count": null,
      "outputs": [
        {
          "output_type": "stream",
          "name": "stdout",
          "text": [
            "ceelmow,ot,eht,egjlnu\n"
          ]
        }
      ]
    },
    {
      "cell_type": "code",
      "source": [],
      "metadata": {
        "id": "HxcUwskVxFDB"
      },
      "execution_count": null,
      "outputs": []
    }
  ]
}