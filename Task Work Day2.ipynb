{
 "cells": [
  {
   "cell_type": "markdown",
   "id": "bfc6b4b5",
   "metadata": {},
   "source": [
    "# 1. In  exercise you’ll implement the sum function that comes with Python. That function takes a sequence of numbers and returns the sum of those numbers. So if you were to invoke sum([1,2,3]) , the result would be 6 . The challenge here is to write a mysum function that does the same thing as the built-in sum function. However, instead of taking a single sequence as a parameter, it should take a variable number of arguments. Thus, although you might invoke sum([1,2,3]) , you’d instead invoke mysum(1,2,3) or mysum(10,20,30,40,50) .\n"
   ]
  },
  {
   "cell_type": "code",
   "execution_count": 1,
   "id": "d408881d",
   "metadata": {},
   "outputs": [
    {
     "name": "stdout",
     "output_type": "stream",
     "text": [
      "6\n",
      "150\n"
     ]
    }
   ],
   "source": [
    "def mysum(*args):\n",
    "    result = 0\n",
    "    for num in args:\n",
    "        result += num\n",
    "    return result\n",
    "\n",
    "# Example usage:\n",
    "result1 = mysum(1, 2, 3)\n",
    "result2 = mysum(10, 20, 30, 40, 50)\n",
    "\n",
    "print(result1)  \n",
    "print(result2)  \n"
   ]
  },
  {
   "cell_type": "markdown",
   "id": "419c1e30",
   "metadata": {},
   "source": [
    "## 2. The built-in version of sum takes an optional second argument, which is used as the starting point for the summing. (That’s why it takes a list of numbers as its first argument, unlike our mysum implementation.) So sum([1,2,3], 4) returns 10, because 1+2+3 is 6, which would be added to the starting value of 4. Reimplement your mysum function such that it works in this way. If a second argument is not provided, then it should default to 0. Note that while you can write a function in Python 3 that defines a parameter after *args , I’d suggest avoiding it and just taking two arguments—a list and an optional starting point."
   ]
  },
  {
   "cell_type": "code",
   "execution_count": 6,
   "id": "2c3a83b4",
   "metadata": {},
   "outputs": [
    {
     "name": "stdout",
     "output_type": "stream",
     "text": [
      "24\n"
     ]
    }
   ],
   "source": [
    "def mysum(num, start=1):\n",
    "    result = start\n",
    "    for num in num:\n",
    "        result += num\n",
    "    return result\n",
    "\n",
    "# Test cases\n",
    "print(mysum([8, 9, 6]))"
   ]
  },
  {
   "cell_type": "code",
   "execution_count": null,
   "id": "9a623a8d",
   "metadata": {},
   "outputs": [],
   "source": []
  }
 ],
 "metadata": {
  "kernelspec": {
   "display_name": "Python 3 (ipykernel)",
   "language": "python",
   "name": "python3"
  },
  "language_info": {
   "codemirror_mode": {
    "name": "ipython",
    "version": 3
   },
   "file_extension": ".py",
   "mimetype": "text/x-python",
   "name": "python",
   "nbconvert_exporter": "python",
   "pygments_lexer": "ipython3",
   "version": "3.11.5"
  }
 },
 "nbformat": 4,
 "nbformat_minor": 5
}
